{
 "cells": [
  {
   "cell_type": "markdown",
   "metadata": {},
   "source": [
    "See [Github](https://github.com/matthewwritter/boston_real_estate_analysis) for project details"
   ]
  },
  {
   "cell_type": "code",
   "execution_count": 1,
   "metadata": {
    "collapsed": true
   },
   "outputs": [],
   "source": [
    "%matplotlib inline"
   ]
  },
  {
   "cell_type": "code",
   "execution_count": 17,
   "metadata": {
    "collapsed": true
   },
   "outputs": [],
   "source": [
    "import sandbox\n",
    "reload(sandbox) # Since it's going to be updated in parallel with this notebook\n",
    "import seaborn as sns"
   ]
  },
  {
   "cell_type": "code",
   "execution_count": 18,
   "metadata": {},
   "outputs": [
    {
     "data": {
      "text/html": [
       "<div>\n",
       "<table border=\"1\" class=\"dataframe\">\n",
       "  <thead>\n",
       "    <tr style=\"text-align: right;\">\n",
       "      <th></th>\n",
       "      <th>control</th>\n",
       "      <th>jrad</th>\n",
       "      <th>jras</th>\n",
       "      <th>improvement_cost</th>\n",
       "      <th>done_by_self</th>\n",
       "      <th>rahk</th>\n",
       "      <th>improvement_type_id</th>\n",
       "      <th>serialid</th>\n",
       "    </tr>\n",
       "  </thead>\n",
       "  <tbody>\n",
       "    <tr>\n",
       "      <th>0</th>\n",
       "      <td>'208000003342'</td>\n",
       "      <td>'9'</td>\n",
       "      <td>'-9'</td>\n",
       "      <td>794</td>\n",
       "      <td>'2'</td>\n",
       "      <td>'2'</td>\n",
       "      <td>66</td>\n",
       "      <td>34501</td>\n",
       "    </tr>\n",
       "    <tr>\n",
       "      <th>1</th>\n",
       "      <td>'208000003342'</td>\n",
       "      <td>'9'</td>\n",
       "      <td>'-9'</td>\n",
       "      <td>1588</td>\n",
       "      <td>'2'</td>\n",
       "      <td>'2'</td>\n",
       "      <td>67</td>\n",
       "      <td>34502</td>\n",
       "    </tr>\n",
       "    <tr>\n",
       "      <th>2</th>\n",
       "      <td>'208000003344'</td>\n",
       "      <td>'-9'</td>\n",
       "      <td>'-9'</td>\n",
       "      <td>3000</td>\n",
       "      <td>'2'</td>\n",
       "      <td>'2'</td>\n",
       "      <td>45</td>\n",
       "      <td>34503</td>\n",
       "    </tr>\n",
       "    <tr>\n",
       "      <th>3</th>\n",
       "      <td>'208000003344'</td>\n",
       "      <td>'-9'</td>\n",
       "      <td>'-9'</td>\n",
       "      <td>1500</td>\n",
       "      <td>'2'</td>\n",
       "      <td>'2'</td>\n",
       "      <td>47</td>\n",
       "      <td>34504</td>\n",
       "    </tr>\n",
       "    <tr>\n",
       "      <th>4</th>\n",
       "      <td>'208000003344'</td>\n",
       "      <td>'-9'</td>\n",
       "      <td>'-9'</td>\n",
       "      <td>1500</td>\n",
       "      <td>'2'</td>\n",
       "      <td>'2'</td>\n",
       "      <td>55</td>\n",
       "      <td>34505</td>\n",
       "    </tr>\n",
       "  </tbody>\n",
       "</table>\n",
       "</div>"
      ],
      "text/plain": [
       "          control  jrad  jras  improvement_cost done_by_self rahk  \\\n",
       "0  '208000003342'   '9'  '-9'               794          '2'  '2'   \n",
       "1  '208000003342'   '9'  '-9'              1588          '2'  '2'   \n",
       "2  '208000003344'  '-9'  '-9'              3000          '2'  '2'   \n",
       "3  '208000003344'  '-9'  '-9'              1500          '2'  '2'   \n",
       "4  '208000003344'  '-9'  '-9'              1500          '2'  '2'   \n",
       "\n",
       "   improvement_type_id serialid  \n",
       "0                   66    34501  \n",
       "1                   67    34502  \n",
       "2                   45    34503  \n",
       "3                   47    34504  \n",
       "4                   55    34505  "
      ]
     },
     "execution_count": 18,
     "metadata": {},
     "output_type": "execute_result"
    }
   ],
   "source": [
    "url_base = \\\n",
    "\"https://api.enigma.io/v2/data/91fb1b95b413cb8504b3001347c3597a/df.co?page={}\"\n",
    "datalist = sandbox.download_data(\n",
    "    url_base=url_base,\n",
    "    max_downloads=0,\n",
    ")\n",
    "\n",
    "df = sandbox.clean_data(datalist, {'rad': 'improvement_cost', 'rah': 'done_by_self',\n",
    "                           'ras': 'improvement_type_id'})\n",
    "df.head()"
   ]
  },
  {
   "cell_type": "markdown",
   "metadata": {},
   "source": [
    "Get a sense of the most popular types of renovation (just using the ID codes for now)"
   ]
  },
  {
   "cell_type": "code",
   "execution_count": 19,
   "metadata": {},
   "outputs": [
    {
     "data": {
      "text/plain": [
       "53    2150\n",
       "45    1982\n",
       "47    1874\n",
       "37    1716\n",
       "61    1676\n",
       "Name: improvement_type_id, dtype: int64"
      ]
     },
     "execution_count": 19,
     "metadata": {},
     "output_type": "execute_result"
    }
   ],
   "source": [
    "df.improvement_type_id.value_counts().head()"
   ]
  },
  {
   "cell_type": "markdown",
   "metadata": {},
   "source": [
    "Take a look at the distributions of the top three"
   ]
  },
  {
   "cell_type": "code",
   "execution_count": 20,
   "metadata": {},
   "outputs": [
    {
     "data": {
      "text/plain": [
       "<matplotlib.axes._subplots.AxesSubplot at 0xa65998ac>"
      ]
     },
     "execution_count": 20,
     "metadata": {},
     "output_type": "execute_result"
    },
    {
     "data": {
      "image/png": "[encoded data removed]",
      "text/plain": [
       "<matplotlib.figure.Figure at 0xa65990cc>"
      ]
     },
     "metadata": {},
     "output_type": "display_data"
    }
   ],
   "source": [
    "sns.boxplot(x='improvement_type_id',y='improvement_cost',data=df[df.improvement_type_id.isin([53,45,47])])"
   ]
  },
  {
   "cell_type": "markdown",
   "metadata": {},
   "source": [
    "Removing outliers is certainly a possibility, but it can also be interesting to look at the output scaled by log 10"
   ]
  },
  {
   "cell_type": "code",
   "execution_count": 25,
   "metadata": {},
   "outputs": [
    {
     "data": {
      "image/png": "[encoded data removed]",
      "text/plain": [
       "<matplotlib.figure.Figure at 0xa8a8188c>"
      ]
     },
     "metadata": {},
     "output_type": "display_data"
    }
   ],
   "source": [
    "grid = sns.boxplot(x='improvement_type_id',y='improvement_cost',data=df[df.improvement_type_id.isin([53,45,47])])\n",
    "grid.set(yscale=\"log\");"
   ]
  }
 ],
 "metadata": {
  "kernelspec": {
   "display_name": "Python 2",
   "language": "python",
   "name": "python2"
  },
  "language_info": {
   "codemirror_mode": {
    "name": "ipython",
    "version": 2
   },
   "file_extension": ".py",
   "mimetype": "text/x-python",
   "name": "python",
   "nbconvert_exporter": "python",
   "pygments_lexer": "ipython2",
   "version": "2.7.13"
  }
 },
 "nbformat": 4,
 "nbformat_minor": 2
}
