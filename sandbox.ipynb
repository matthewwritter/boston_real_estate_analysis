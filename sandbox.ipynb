{
 "cells": [
  {
   "cell_type": "markdown",
   "metadata": {},
   "source": [
    "See [Github](https://github.com/matthewwritter/boston_real_estate_analysis) for project details\n",
    "\n",
    "Make sure that ENIGMA_APPTOKEN (availble in https://public.enigma.com/settings) is set in your .bashrc or session\n",
    "\n",
    "\n",
    "`export ENIGMA_APPTOKEN=<string>` "
   ]
  },
  {
   "cell_type": "code",
   "execution_count": 1,
   "metadata": {},
   "outputs": [],
   "source": [
    "%matplotlib inline\n",
    "%load_ext autoreload\n",
    "%autoreload 2"
   ]
  },
  {
   "cell_type": "code",
   "execution_count": 10,
   "metadata": {},
   "outputs": [],
   "source": [
    "import sandbox\n",
    "import seaborn as sns\n",
    "import os"
   ]
  },
  {
   "cell_type": "code",
   "execution_count": 28,
   "metadata": {},
   "outputs": [
    {
     "name": "stdout",
     "output_type": "stream",
     "text": [
      "fee50c37-5ac6-4697-90a0-9e949fd7ee6f\n",
      "('Upgrades and Remodeling', ['Control number', 'Type of alteration/repair - 1999 version', 'Household member performed alteration/repair', 'Cost of alteration/repair', 'Edit flag for RAS', 'Hurricane Katrina related alteration/repair', 'Edit flag for RAD'], 147329, [[\"'036000001147'\", \"'47'\", \"'1'\", '250', \"'-9'\", \"'2'\", \"'-9'\"], [\"'036000001147'\", \"'62'\", \"'2'\", '500', \"'-9'\", \"'2'\", \"'-9'\"], [\"'036000001147'\", \"'63'\", \"'1'\", '70', \"'-9'\", \"'2'\", \"'-9'\"], [\"'036000001150'\", \"'52'\", \"'2'\", '1600', \"'-9'\", \"'2'\", \"'-9'\"], [\"'036000001151'\", \"'57'\", \"'1'\", '200', \"'-9'\", \"'2'\", \"'-9'\"]])\n"
     ]
    }
   ],
   "source": [
    "# https://docs.enigma.com/public/public_v20_user_python.html\n",
    "\n",
    "import requests\n",
    "\n",
    "headers = {'authorization': 'Bearer {}'.format(os.environ['ENIGMA_APPTOKEN'])}\n",
    "base_url = \"https://public.enigma.com/api/\"\n",
    "\n",
    "def find_current_snapshot_id(dataset_id):\n",
    "    url = base_url + \"datasets/\" + dataset_id\n",
    "    r = requests.get(url, headers=headers)\n",
    "    dataset = r.json()\n",
    "    return dataset['current_snapshot']['id']\n",
    "print(find_current_snapshot_id('1ff77e4e-cd39-4467-b344-de2c755bff26')) # Remodeling Dataset\n",
    "\n",
    "def get_basics(snapshot_id, row_limit=5, row_offset=0):\n",
    "    url = \"{}snapshots/{}\".format(base_url, snapshot_id)\n",
    "    params = {'row_limit':row_limit, 'row_offset':row_offset}\n",
    "    r = requests.get(url, headers=headers, params=params)\n",
    "    snapshot = r.json()\n",
    "    display_name = snapshot['dataset']['display_name']\n",
    "    column_names = [x['display_name'] for x in snapshot['fields']]\n",
    "    rows = snapshot['table_rows']['count']\n",
    "    data = snapshot['table_rows']['rows']\n",
    "    return display_name, column_names, rows, data\n",
    "\n",
    "temp = get_basics(snapshot_id='fee50c37-5ac6-4697-90a0-9e949fd7ee6f')\n",
    "print(temp)"
   ]
  },
  {
   "cell_type": "code",
   "execution_count": 34,
   "metadata": {},
   "outputs": [
    {
     "data": {
      "text/html": [
       "<div>\n",
       "<style scoped>\n",
       "    .dataframe tbody tr th:only-of-type {\n",
       "        vertical-align: middle;\n",
       "    }\n",
       "\n",
       "    .dataframe tbody tr th {\n",
       "        vertical-align: top;\n",
       "    }\n",
       "\n",
       "    .dataframe thead th {\n",
       "        text-align: right;\n",
       "    }\n",
       "</style>\n",
       "<table border=\"1\" class=\"dataframe\">\n",
       "  <thead>\n",
       "    <tr style=\"text-align: right;\">\n",
       "      <th></th>\n",
       "      <th>Control number</th>\n",
       "      <th>Type of alteration/repair - 1999 version</th>\n",
       "      <th>Household member performed alteration/repair</th>\n",
       "      <th>Cost of alteration/repair</th>\n",
       "      <th>Edit flag for RAS</th>\n",
       "      <th>Hurricane Katrina related alteration/repair</th>\n",
       "      <th>Edit flag for RAD</th>\n",
       "    </tr>\n",
       "  </thead>\n",
       "  <tbody>\n",
       "    <tr>\n",
       "      <th>0</th>\n",
       "      <td>036000001147</td>\n",
       "      <td>47</td>\n",
       "      <td>1</td>\n",
       "      <td>250</td>\n",
       "      <td>-9</td>\n",
       "      <td>2</td>\n",
       "      <td>-9</td>\n",
       "    </tr>\n",
       "    <tr>\n",
       "      <th>1</th>\n",
       "      <td>036000001147</td>\n",
       "      <td>62</td>\n",
       "      <td>2</td>\n",
       "      <td>500</td>\n",
       "      <td>-9</td>\n",
       "      <td>2</td>\n",
       "      <td>-9</td>\n",
       "    </tr>\n",
       "    <tr>\n",
       "      <th>2</th>\n",
       "      <td>036000001147</td>\n",
       "      <td>63</td>\n",
       "      <td>1</td>\n",
       "      <td>70</td>\n",
       "      <td>-9</td>\n",
       "      <td>2</td>\n",
       "      <td>-9</td>\n",
       "    </tr>\n",
       "    <tr>\n",
       "      <th>3</th>\n",
       "      <td>036000001150</td>\n",
       "      <td>52</td>\n",
       "      <td>2</td>\n",
       "      <td>1600</td>\n",
       "      <td>-9</td>\n",
       "      <td>2</td>\n",
       "      <td>-9</td>\n",
       "    </tr>\n",
       "    <tr>\n",
       "      <th>4</th>\n",
       "      <td>036000001151</td>\n",
       "      <td>57</td>\n",
       "      <td>1</td>\n",
       "      <td>200</td>\n",
       "      <td>-9</td>\n",
       "      <td>2</td>\n",
       "      <td>-9</td>\n",
       "    </tr>\n",
       "  </tbody>\n",
       "</table>\n",
       "</div>"
      ],
      "text/plain": [
       "  Control number Type of alteration/repair - 1999 version  \\\n",
       "0   036000001147                                       47   \n",
       "1   036000001147                                       62   \n",
       "2   036000001147                                       63   \n",
       "3   036000001150                                       52   \n",
       "4   036000001151                                       57   \n",
       "\n",
       "  Household member performed alteration/repair Cost of alteration/repair  \\\n",
       "0                                            1                       250   \n",
       "1                                            2                       500   \n",
       "2                                            1                        70   \n",
       "3                                            2                      1600   \n",
       "4                                            1                       200   \n",
       "\n",
       "  Edit flag for RAS Hurricane Katrina related alteration/repair  \\\n",
       "0                -9                                           2   \n",
       "1                -9                                           2   \n",
       "2                -9                                           2   \n",
       "3                -9                                           2   \n",
       "4                -9                                           2   \n",
       "\n",
       "  Edit flag for RAD  \n",
       "0                -9  \n",
       "1                -9  \n",
       "2                -9  \n",
       "3                -9  \n",
       "4                -9  "
      ]
     },
     "execution_count": 34,
     "metadata": {},
     "output_type": "execute_result"
    }
   ],
   "source": [
    "display_name, column_names, rows, data = \\\n",
    "    get_basics(snapshot_id='fee50c37-5ac6-4697-90a0-9e949fd7ee6f', row_limit=1000)\n",
    "df = pd.DataFrame(data=data, columns=column_names)\n",
    "df = df.applymap(lambda x: x.replace(\"'\", \"\") if type(x) is str else x)\n",
    "df.head()"
   ]
  },
  {
   "cell_type": "code",
   "execution_count": 35,
   "metadata": {},
   "outputs": [
    {
     "data": {
      "text/plain": [
       "37    97\n",
       "53    84\n",
       "47    77\n",
       "61    65\n",
       "57    59\n",
       "Name: Type of alteration/repair - 1999 version, dtype: int64"
      ]
     },
     "execution_count": 35,
     "metadata": {},
     "output_type": "execute_result"
    }
   ],
   "source": [
    "df['Type of alteration/repair - 1999 version'].value_counts().head()"
   ]
  },
  {
   "cell_type": "markdown",
   "metadata": {},
   "source": [
    "Take a look at the distributions of the top three"
   ]
  }
 ],
 "metadata": {
  "kernelspec": {
   "display_name": "Python 3",
   "language": "python",
   "name": "python3"
  },
  "language_info": {
   "codemirror_mode": {
    "name": "ipython",
    "version": 3
   },
   "file_extension": ".py",
   "mimetype": "text/x-python",
   "name": "python",
   "nbconvert_exporter": "python",
   "pygments_lexer": "ipython3",
   "version": "3.6.4"
  }
 },
 "nbformat": 4,
 "nbformat_minor": 2
}
